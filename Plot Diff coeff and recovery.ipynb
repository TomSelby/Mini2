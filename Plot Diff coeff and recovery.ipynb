{
 "cells": [
  {
   "cell_type": "code",
   "execution_count": 2,
   "id": "e166696e",
   "metadata": {},
   "outputs": [],
   "source": [
    "import matplotlib.pyplot as plt\n",
    "import numpy as np\n",
    "import pandas as pd\n",
    "import os\n",
    "import scipy.interpolate as interp\n",
    "from skimage import io"
   ]
  },
  {
   "cell_type": "code",
   "execution_count": 3,
   "id": "d0cb0fb4",
   "metadata": {},
   "outputs": [],
   "source": [
    "#Import POPC(1)\n",
    "os.chdir(r'C:\\Users\\tselb\\OneDrive - University of Cambridge\\Documents\\Mini 2\\FRAP\\Data\\2022_03_17\\2022_03_17_SLB_TR\\plottable\\1\\well1_slide3_561nm_OD1p6_POPC(1)-TMR_0p5mgmL_Epi_3')\n",
    "df_popc = pd.read_csv('well1_slide3_561nm_OD1p6_POPC(1)-TMR_0p5mgmL_Epi_3ultimate_df.csv')\n",
    "df_popc = df_popc.drop('Unnamed: 0',axis=1)\n",
    "\n",
    "#Import Ni(2)\n",
    "os.chdir(r'C:\\Users\\tselb\\OneDrive - University of Cambridge\\Documents\\Mini 2\\FRAP\\Data\\2022_03_17\\2022_03_17_SLB_TR\\plottable\\2\\well2_slide3_561nm_OD1p6_Ni(2)-TMR_0p5mgmL_Epi_3')\n",
    "df_ni = pd.read_csv('well2_slide3_561nm_OD1p6_Ni(2)-TMR_0p5mgmL_Epi_3ultimate_df.csv')\n",
    "df_ni = df_ni.drop('Unnamed: 0',axis=1)\n",
    "\n",
    "#Import SNAP(3)\n",
    "os.chdir(r'C:\\Users\\tselb\\OneDrive - University of Cambridge\\Documents\\Mini 2\\FRAP\\Data\\2022_03_17\\2022_03_17_SLB_TR\\plottable\\3\\well3_slide3_561nm_OD1p6_SNAP(3)-TMR_0p5mgmL_Epi_3')\n",
    "df_snap3 = pd.read_csv('well3_slide3_561nm_OD1p6_SNAP(3)-TMR_0p5mgmL_Epi_3ultimate_df.csv')\n",
    "df_snap3 = df_snap3.drop('Unnamed: 0',axis=1)\n",
    "#Import SNAP(4)\n",
    "os.chdir(r'C:\\Users\\tselb\\OneDrive - University of Cambridge\\Documents\\Mini 2\\FRAP\\Data\\2022_03_17\\2022_03_17_SLB_TR\\plottable\\4\\well4_slide3_561nm_OD1p6_SNAP(4)-TMR_0p5mgmL_Epi_3')\n",
    "df_snap4 = pd.read_csv('well4_slide3_561nm_OD1p6_SNAP(4)-TMR_0p5mgmL_Epi_3ultimate_df.csv')\n",
    "df_snap4 = df_snap4.drop('Unnamed: 0',axis=1)"
   ]
  },
  {
   "cell_type": "markdown",
   "id": "f96a282b",
   "metadata": {},
   "source": [
    "# Get rid of bad data"
   ]
  },
  {
   "cell_type": "code",
   "execution_count": 4,
   "id": "5760222e",
   "metadata": {},
   "outputs": [
    {
     "data": {
      "text/html": [
       "<div>\n",
       "<style scoped>\n",
       "    .dataframe tbody tr th:only-of-type {\n",
       "        vertical-align: middle;\n",
       "    }\n",
       "\n",
       "    .dataframe tbody tr th {\n",
       "        vertical-align: top;\n",
       "    }\n",
       "\n",
       "    .dataframe thead th {\n",
       "        text-align: right;\n",
       "    }\n",
       "</style>\n",
       "<table border=\"1\" class=\"dataframe\">\n",
       "  <thead>\n",
       "    <tr style=\"text-align: right;\">\n",
       "      <th></th>\n",
       "      <th>Diff Coeff</th>\n",
       "      <th>Frac Mobile</th>\n",
       "      <th>Filename</th>\n",
       "    </tr>\n",
       "  </thead>\n",
       "  <tbody>\n",
       "    <tr>\n",
       "      <th>0</th>\n",
       "      <td>14.748176</td>\n",
       "      <td>0.813663</td>\n",
       "      <td>well1_slide1_561nm_OD1p6_POPC(1)-TMR_0p5mgmL_E...</td>\n",
       "    </tr>\n",
       "    <tr>\n",
       "      <th>1</th>\n",
       "      <td>0.217695</td>\n",
       "      <td>3.045520</td>\n",
       "      <td>well1_slide1_561nm_OD1p6_POPC(1)-TMR_0p5mgmL_E...</td>\n",
       "    </tr>\n",
       "    <tr>\n",
       "      <th>2</th>\n",
       "      <td>10.200596</td>\n",
       "      <td>0.903038</td>\n",
       "      <td>well1_slide1_561nm_OD1p6_POPC(1)-TMR_0p5mgmL_E...</td>\n",
       "    </tr>\n",
       "    <tr>\n",
       "      <th>3</th>\n",
       "      <td>17.908826</td>\n",
       "      <td>0.891223</td>\n",
       "      <td>well1_slide2_561nm_OD1p6_POPC(1)-TMR_0p5mgmL_E...</td>\n",
       "    </tr>\n",
       "    <tr>\n",
       "      <th>4</th>\n",
       "      <td>17.277244</td>\n",
       "      <td>0.875510</td>\n",
       "      <td>well1_slide2_561nm_OD1p6_POPC(1)-TMR_0p5mgmL_E...</td>\n",
       "    </tr>\n",
       "    <tr>\n",
       "      <th>5</th>\n",
       "      <td>14.928912</td>\n",
       "      <td>0.928633</td>\n",
       "      <td>well1_slide2_561nm_OD1p6_POPC(1)-TMR_0p5mgmL_E...</td>\n",
       "    </tr>\n",
       "    <tr>\n",
       "      <th>6</th>\n",
       "      <td>13.378982</td>\n",
       "      <td>-0.819968</td>\n",
       "      <td>well1_slide3_561nm_OD1p6_POPC(1)-TMR_0p5mgmL_E...</td>\n",
       "    </tr>\n",
       "    <tr>\n",
       "      <th>7</th>\n",
       "      <td>13.555780</td>\n",
       "      <td>0.908209</td>\n",
       "      <td>well1_slide3_561nm_OD1p6_POPC(1)-TMR_0p5mgmL_E...</td>\n",
       "    </tr>\n",
       "    <tr>\n",
       "      <th>8</th>\n",
       "      <td>8.688601</td>\n",
       "      <td>0.923957</td>\n",
       "      <td>well1_slide3_561nm_OD1p6_POPC(1)-TMR_0p5mgmL_E...</td>\n",
       "    </tr>\n",
       "  </tbody>\n",
       "</table>\n",
       "</div>"
      ],
      "text/plain": [
       "   Diff Coeff  Frac Mobile                                           Filename\n",
       "0   14.748176     0.813663  well1_slide1_561nm_OD1p6_POPC(1)-TMR_0p5mgmL_E...\n",
       "1    0.217695     3.045520  well1_slide1_561nm_OD1p6_POPC(1)-TMR_0p5mgmL_E...\n",
       "2   10.200596     0.903038  well1_slide1_561nm_OD1p6_POPC(1)-TMR_0p5mgmL_E...\n",
       "3   17.908826     0.891223  well1_slide2_561nm_OD1p6_POPC(1)-TMR_0p5mgmL_E...\n",
       "4   17.277244     0.875510  well1_slide2_561nm_OD1p6_POPC(1)-TMR_0p5mgmL_E...\n",
       "5   14.928912     0.928633  well1_slide2_561nm_OD1p6_POPC(1)-TMR_0p5mgmL_E...\n",
       "6   13.378982    -0.819968  well1_slide3_561nm_OD1p6_POPC(1)-TMR_0p5mgmL_E...\n",
       "7   13.555780     0.908209  well1_slide3_561nm_OD1p6_POPC(1)-TMR_0p5mgmL_E...\n",
       "8    8.688601     0.923957  well1_slide3_561nm_OD1p6_POPC(1)-TMR_0p5mgmL_E..."
      ]
     },
     "execution_count": 4,
     "metadata": {},
     "output_type": "execute_result"
    }
   ],
   "source": [
    "df_popc"
   ]
  },
  {
   "cell_type": "code",
   "execution_count": 5,
   "id": "94ba6f34",
   "metadata": {},
   "outputs": [],
   "source": [
    "df_popc= df_popc.drop([6]) # nonsensical diff coeff\n",
    "df_popc = df_popc.drop([1]) # nonsensical mob frac"
   ]
  },
  {
   "cell_type": "code",
   "execution_count": 32,
   "id": "67bd752c",
   "metadata": {},
   "outputs": [
    {
     "data": {
      "text/plain": [
       "5.573026953983069"
      ]
     },
     "execution_count": 32,
     "metadata": {},
     "output_type": "execute_result"
    }
   ],
   "source": [
    "np.std(df_snap4['Frac Mobile'])*100"
   ]
  },
  {
   "cell_type": "markdown",
   "id": "e6755335",
   "metadata": {},
   "source": [
    "# Box and wisker plot"
   ]
  },
  {
   "cell_type": "code",
   "execution_count": 7,
   "id": "a5afe656",
   "metadata": {},
   "outputs": [
    {
     "data": {
      "image/png": "[encoded data removed]",
      "text/plain": [
       "<Figure size 432x288 with 4 Axes>"
      ]
     },
     "metadata": {
      "needs_background": "light"
     },
     "output_type": "display_data"
    }
   ],
   "source": [
    "scatter_list = [df_popc['Diff Coeff'],df_ni['Diff Coeff'],df_snap3['Diff Coeff'],df_snap4['Diff Coeff']]\n",
    "name_list = ['POPC','Ni-NTA\\n  (2%)','SNAP\\n (2%)',' SNAP\\n(10%)']# put 2 spaces before ni to make it line up\n",
    "colour_list = ['red','green','blue','purple']\n",
    "\n",
    "\n",
    "fig, ax= plt.subplots(1,4,sharey=True)\n",
    "for i in range(len(scatter_list)):\n",
    "    scatter_list[i] = scatter_list[i]\n",
    "    x = np.array([1]*len(scatter_list[i]))\n",
    "    ax[i].boxplot(scatter_list[i],showfliers=False,widths=0.6)\n",
    "    #ax[i].set_xlabel(name_list[i])\n",
    "    ax[i].set_xticks([])\n",
    "    ax[i].scatter(x,scatter_list[i], label = name_list[i],alpha =0.3,color= colour_list[i])\n",
    "    ax[i].legend(bbox_to_anchor=(0.5, 0.65, 0.5, 0.55))\n",
    "    \n",
    "ax[0].set_ylabel('Diffusion Coefficient (µm²/s)')    \n",
    "\n",
    "plt.tight_layout()\n",
    "os.chdir(r'C:\\Users\\tselb\\OneDrive - University of Cambridge\\Documents\\Mini 2\\FRAP')\n",
    "plt.savefig('boxwiskdiff.png', dpi=600)"
   ]
  },
  {
   "cell_type": "markdown",
   "id": "7e7f3c1d",
   "metadata": {},
   "source": [
    "# Make a similar plot for mobile frac"
   ]
  },
  {
   "cell_type": "code",
   "execution_count": 8,
   "id": "3d280a0b",
   "metadata": {
    "scrolled": true
   },
   "outputs": [
    {
     "data": {
      "image/png": "[encoded data removed]",
      "text/plain": [
       "<Figure size 432x288 with 4 Axes>"
      ]
     },
     "metadata": {
      "needs_background": "light"
     },
     "output_type": "display_data"
    }
   ],
   "source": [
    "scatter_list = [df_popc['Frac Mobile'],df_ni['Frac Mobile'],df_snap3['Frac Mobile'],df_snap4['Frac Mobile']]\n",
    "name_list = ['POPC','Ni-NTA\\n  (2%)','SNAP\\n (2%)',' SNAP\\n(10%)']# put 2 spaces before ni to make it line up\n",
    "colour_list = ['red','green','blue','purple']\n",
    "\n",
    "\n",
    "fig, ax= plt.subplots(1,4,sharey=True)\n",
    "for i in range(len(scatter_list)):\n",
    "    scatter_list[i] = scatter_list[i]*100\n",
    "    x = np.array([1]*len(scatter_list[i]))\n",
    "    ax[i].boxplot(scatter_list[i],showfliers=False,widths=0.6)\n",
    "    #ax[i].set_xlabel(name_list[i])\n",
    "    ax[i].set_xticks([])\n",
    "    ax[i].scatter(x,scatter_list[i], label = name_list[i],alpha =0.3,color= colour_list[i])\n",
    "    ax[i].legend(bbox_to_anchor=(0.5, 0.65, 0.5, 0.55))\n",
    "    \n",
    "ax[0].set_ylabel('Mobile Fraction (%)')    \n",
    "fig.set_size_inches(6, 4)\n",
    "plt.tight_layout()\n",
    "os.chdir(r'C:\\Users\\tselb\\OneDrive - University of Cambridge\\Documents\\Mini 2\\FRAP')\n",
    "plt.savefig('boxwiskmob.png', dpi=600)"
   ]
  },
  {
   "cell_type": "markdown",
   "id": "930fc1f2",
   "metadata": {},
   "source": [
    "# Plot a nice graph of recovery"
   ]
  },
  {
   "cell_type": "markdown",
   "id": "aee6b41a",
   "metadata": {},
   "source": [
    "Choose files with nice recovery (mob frac diff coeff)\n",
    "\n",
    "POPC- well1_slide3_561nm_OD1p6_POPC(1)-TMR_0p5mgmL_Epi_2 (0.908209, 2.13E-12)\n",
    "\n",
    "Ni- well2_slide2_561nm_OD1p6_Ni(2)-TMR_0p5mgmL_Epi_3 (0.90428, 2.68E-12)\n",
    "\n",
    "SNAP(3)- well3_slide1_561nm_OD1p6_SNAP(3)-TMR_0p5mgmL_Epi_1 (0.787403, 3.83E-12)\n",
    "\n",
    "SNAP (4) - well4_slide2_561nm_OD1p6_SNAP(4)-TMR_0p5mgmL_Epi_2 (0.771885, 3.79E-12)"
   ]
  },
  {
   "cell_type": "markdown",
   "id": "1f61a529",
   "metadata": {},
   "source": [
    "# Import pre bleach"
   ]
  },
  {
   "cell_type": "markdown",
   "id": "6ffb5994",
   "metadata": {},
   "source": [
    "Need to calculate the average pre bleach"
   ]
  },
  {
   "cell_type": "code",
   "execution_count": 270,
   "id": "c4ed7530",
   "metadata": {},
   "outputs": [],
   "source": [
    "#Import prePOPC(1)\n",
    "os.chdir(r'C:\\Users\\tselb\\OneDrive - University of Cambridge\\Documents\\Mini 2\\FRAP\\Data\\2022_03_17\\2022_03_17_SLB_TR\\plottable\\1\\well1_slide3_561nm_OD1p6_POPC(1)-TMR_0p5mgmL_Epi_2\\pre')\n",
    "popc_pre = io.imread('cropped well1_slide3_561nm_OD1p6_POPC(1)-TMR_0p5mgmL_Epi_2_MMStack_Pos0.ome.tif')\n",
    "\n",
    "#Import preNi(2)\n",
    "os.chdir(r'C:\\Users\\tselb\\OneDrive - University of Cambridge\\Documents\\Mini 2\\FRAP\\Data\\2022_03_17\\2022_03_17_SLB_TR\\plottable\\2\\well2_slide2_561nm_OD1p6_Ni(2)-TMR_0p5mgmL_Epi_3\\pre')\n",
    "ni_pre = io.imread('cropped well2_slide2_561nm_OD1p6_Ni(2)-TMR_0p5mgmL_Epi_3_MMStack_Pos0.ome.tif')\n",
    "\n",
    "#Import preSNAP(3)\n",
    "os.chdir(r'C:\\Users\\tselb\\OneDrive - University of Cambridge\\Documents\\Mini 2\\FRAP\\Data\\2022_03_17\\2022_03_17_SLB_TR\\plottable\\3\\well3_slide1_561nm_OD1p6_SNAP(3)-TMR_0p5mgmL_Epi_1\\pre')\n",
    "snap3_pre = io.imread('cropped well3_slide1_561nm_OD1p6_SNAP(3)-TMR_0p5mgmL_Epi_1_MMStack_Pos0.ome.tif')\n",
    "\n",
    "#Import preSNAP(4)\n",
    "os.chdir(r'C:\\Users\\tselb\\OneDrive - University of Cambridge\\Documents\\Mini 2\\FRAP\\Data\\2022_03_17\\2022_03_17_SLB_TR\\plottable\\4\\well4_slide2_561nm_OD1p6_SNAP(4)-TMR_0p5mgmL_Epi_2\\pre')\n",
    "snap4_pre = io.imread('cropped well4_slide2_561nm_OD1p6_SNAP(4)-TMR_0p5mgmL_Epi_2_MMStack_Pos0.ome.tif')\n"
   ]
  },
  {
   "cell_type": "markdown",
   "id": "fbaa02f3",
   "metadata": {},
   "source": [
    "Calculate the average image over the series of images in the pre bleach movie "
   ]
  },
  {
   "cell_type": "code",
   "execution_count": 271,
   "id": "9cebf44d",
   "metadata": {},
   "outputs": [],
   "source": [
    "pre_array = [popc_pre,ni_pre,snap3_pre,snap4_pre] #define the pre array images\n",
    "\n",
    "tot_pre = [np.zeros((512,512))]*4 #create array with 4 lots of 512x512 to place the totaled images in\n",
    "av_array  = [np.zeros((512,512))]*4 #create array with 4 lots of 512x512 to place the averaged images in\n",
    "\n",
    "for j in range(len(pre_array)): #iterate over all 4 experiments\n",
    "    for i in range(len(pre_array[j])): #iterate over all images in each experiment\n",
    "        \n",
    "        tot_pre[j] = tot_pre[j] +pre_array[j][i] #redefine av_pre as the sum of all images in that experiment\n",
    "    av_array[j] = av_pre[j]/len(pre_array[j]) #divide the sum of all the images by the number of images to get the average image for each pre movie"
   ]
  },
  {
   "cell_type": "markdown",
   "id": "dc788896",
   "metadata": {},
   "source": [
    "Redefine the pre bleach images in terms of the pre bleach average and find the average of each frame"
   ]
  },
  {
   "cell_type": "code",
   "execution_count": 274,
   "id": "621fa778",
   "metadata": {},
   "outputs": [],
   "source": [
    "for i in range(len(pre_array)): #iterate over each experiment\n",
    "    for j in range(len(pre_array[i])): #iterate over each frame\n",
    "        pre_array[i][j] = pre_array[i][j]/av_array[i] #divide each frame by the average image of all frames"
   ]
  },
  {
   "cell_type": "code",
   "execution_count": 276,
   "id": "01ba94da",
   "metadata": {},
   "outputs": [
    {
     "data": {
      "text/plain": [
       "0.0"
      ]
     },
     "execution_count": 276,
     "metadata": {},
     "output_type": "execute_result"
    }
   ],
   "source": [
    "np.mean(pre_array[0][0])"
   ]
  },
  {
   "cell_type": "markdown",
   "id": "fff16675",
   "metadata": {},
   "source": [
    "# Import post bleach-single recovery for each exp"
   ]
  },
  {
   "cell_type": "code",
   "execution_count": 22,
   "id": "46564b39",
   "metadata": {},
   "outputs": [],
   "source": [
    "#Import POPC(1)\n",
    "os.chdir(r'C:\\Users\\tselb\\OneDrive - University of Cambridge\\Documents\\Mini 2\\FRAP\\Data\\2022_03_17\\2022_03_17_SLB_TR\\plottable\\1\\well1_slide3_561nm_OD1p6_POPC(1)-TMR_0p5mgmL_Epi_2')\n",
    "df_popc_recov = pd.read_csv('well1_slide3_561nm_OD1p6_POPC(1)-TMR_0p5mgmL_Epi_22D gaussian.csv')\n",
    "df_popc_recov = df_popc_recov.drop('Unnamed: 0',axis=1)\n",
    "\n",
    "#Import Ni(2)\n",
    "os.chdir(r'C:\\Users\\tselb\\OneDrive - University of Cambridge\\Documents\\Mini 2\\FRAP\\Data\\2022_03_17\\2022_03_17_SLB_TR\\plottable\\2\\well2_slide2_561nm_OD1p6_Ni(2)-TMR_0p5mgmL_Epi_3')\n",
    "df_ni_recov = pd.read_csv('well2_slide2_561nm_OD1p6_Ni(2)-TMR_0p5mgmL_Epi_32D gaussian.csv')\n",
    "df_ni_recov = df_ni_recov.drop('Unnamed: 0',axis=1)\n",
    "\n",
    "#Import SNAP(3)\n",
    "os.chdir(r'C:\\Users\\tselb\\OneDrive - University of Cambridge\\Documents\\Mini 2\\FRAP\\Data\\2022_03_17\\2022_03_17_SLB_TR\\plottable\\3\\well3_slide1_561nm_OD1p6_SNAP(3)-TMR_0p5mgmL_Epi_1')\n",
    "df_snap3_recov = pd.read_csv('well3_slide1_561nm_OD1p6_SNAP(3)-TMR_0p5mgmL_Epi_12D gaussian.csv')\n",
    "df_snap3_recov = df_snap3_recov.drop('Unnamed: 0',axis=1)\n",
    "#Import SNAP(4)\n",
    "os.chdir(r'C:\\Users\\tselb\\OneDrive - University of Cambridge\\Documents\\Mini 2\\FRAP\\Data\\2022_03_17\\2022_03_17_SLB_TR\\plottable\\4\\well4_slide2_561nm_OD1p6_SNAP(4)-TMR_0p5mgmL_Epi_2')\n",
    "df_snap4_recov = pd.read_csv('well4_slide2_561nm_OD1p6_SNAP(4)-TMR_0p5mgmL_Epi_22D gaussian.csv')\n",
    "df_snap4_recov = df_snap4_recov.drop('Unnamed: 0',axis=1)"
   ]
  },
  {
   "cell_type": "code",
   "execution_count": 23,
   "id": "caed3ec8",
   "metadata": {},
   "outputs": [
    {
     "data": {
      "text/html": [
       "<div>\n",
       "<style scoped>\n",
       "    .dataframe tbody tr th:only-of-type {\n",
       "        vertical-align: middle;\n",
       "    }\n",
       "\n",
       "    .dataframe tbody tr th {\n",
       "        vertical-align: top;\n",
       "    }\n",
       "\n",
       "    .dataframe thead th {\n",
       "        text-align: right;\n",
       "    }\n",
       "</style>\n",
       "<table border=\"1\" class=\"dataframe\">\n",
       "  <thead>\n",
       "    <tr style=\"text-align: right;\">\n",
       "      <th></th>\n",
       "      <th>x0</th>\n",
       "      <th>y0</th>\n",
       "      <th>Depth</th>\n",
       "      <th>Re</th>\n",
       "      <th>Intensity at Re=sd</th>\n",
       "      <th>Time (s)</th>\n",
       "    </tr>\n",
       "  </thead>\n",
       "  <tbody>\n",
       "    <tr>\n",
       "      <th>0</th>\n",
       "      <td>271.253553</td>\n",
       "      <td>270.889534</td>\n",
       "      <td>0.974270</td>\n",
       "      <td>151.137980</td>\n",
       "      <td>0.876470</td>\n",
       "      <td>0.000</td>\n",
       "    </tr>\n",
       "    <tr>\n",
       "      <th>1</th>\n",
       "      <td>261.709937</td>\n",
       "      <td>246.602969</td>\n",
       "      <td>0.799114</td>\n",
       "      <td>160.599382</td>\n",
       "      <td>0.897494</td>\n",
       "      <td>0.316</td>\n",
       "    </tr>\n",
       "    <tr>\n",
       "      <th>2</th>\n",
       "      <td>271.317730</td>\n",
       "      <td>285.620155</td>\n",
       "      <td>0.835793</td>\n",
       "      <td>112.009006</td>\n",
       "      <td>0.893050</td>\n",
       "      <td>0.616</td>\n",
       "    </tr>\n",
       "    <tr>\n",
       "      <th>3</th>\n",
       "      <td>272.367347</td>\n",
       "      <td>291.852974</td>\n",
       "      <td>0.812299</td>\n",
       "      <td>105.602857</td>\n",
       "      <td>0.895894</td>\n",
       "      <td>0.943</td>\n",
       "    </tr>\n",
       "    <tr>\n",
       "      <th>4</th>\n",
       "      <td>273.732773</td>\n",
       "      <td>290.644367</td>\n",
       "      <td>0.785501</td>\n",
       "      <td>103.813656</td>\n",
       "      <td>0.899149</td>\n",
       "      <td>1.363</td>\n",
       "    </tr>\n",
       "    <tr>\n",
       "      <th>...</th>\n",
       "      <td>...</td>\n",
       "      <td>...</td>\n",
       "      <td>...</td>\n",
       "      <td>...</td>\n",
       "      <td>...</td>\n",
       "      <td>...</td>\n",
       "    </tr>\n",
       "    <tr>\n",
       "      <th>252</th>\n",
       "      <td>294.677671</td>\n",
       "      <td>286.519248</td>\n",
       "      <td>0.076117</td>\n",
       "      <td>176.018984</td>\n",
       "      <td>0.989752</td>\n",
       "      <td>81.905</td>\n",
       "    </tr>\n",
       "    <tr>\n",
       "      <th>253</th>\n",
       "      <td>301.648948</td>\n",
       "      <td>280.169320</td>\n",
       "      <td>0.075774</td>\n",
       "      <td>170.412520</td>\n",
       "      <td>0.989798</td>\n",
       "      <td>82.292</td>\n",
       "    </tr>\n",
       "    <tr>\n",
       "      <th>254</th>\n",
       "      <td>289.686793</td>\n",
       "      <td>281.655176</td>\n",
       "      <td>0.075492</td>\n",
       "      <td>172.921083</td>\n",
       "      <td>0.989835</td>\n",
       "      <td>82.606</td>\n",
       "    </tr>\n",
       "    <tr>\n",
       "      <th>255</th>\n",
       "      <td>299.645372</td>\n",
       "      <td>280.256754</td>\n",
       "      <td>0.076682</td>\n",
       "      <td>168.620776</td>\n",
       "      <td>0.989676</td>\n",
       "      <td>82.926</td>\n",
       "    </tr>\n",
       "    <tr>\n",
       "      <th>256</th>\n",
       "      <td>294.610188</td>\n",
       "      <td>285.113472</td>\n",
       "      <td>0.074862</td>\n",
       "      <td>171.567406</td>\n",
       "      <td>0.989920</td>\n",
       "      <td>83.243</td>\n",
       "    </tr>\n",
       "  </tbody>\n",
       "</table>\n",
       "<p>257 rows × 6 columns</p>\n",
       "</div>"
      ],
      "text/plain": [
       "             x0          y0     Depth          Re  Intensity at Re=sd  \\\n",
       "0    271.253553  270.889534  0.974270  151.137980            0.876470   \n",
       "1    261.709937  246.602969  0.799114  160.599382            0.897494   \n",
       "2    271.317730  285.620155  0.835793  112.009006            0.893050   \n",
       "3    272.367347  291.852974  0.812299  105.602857            0.895894   \n",
       "4    273.732773  290.644367  0.785501  103.813656            0.899149   \n",
       "..          ...         ...       ...         ...                 ...   \n",
       "252  294.677671  286.519248  0.076117  176.018984            0.989752   \n",
       "253  301.648948  280.169320  0.075774  170.412520            0.989798   \n",
       "254  289.686793  281.655176  0.075492  172.921083            0.989835   \n",
       "255  299.645372  280.256754  0.076682  168.620776            0.989676   \n",
       "256  294.610188  285.113472  0.074862  171.567406            0.989920   \n",
       "\n",
       "     Time (s)  \n",
       "0       0.000  \n",
       "1       0.316  \n",
       "2       0.616  \n",
       "3       0.943  \n",
       "4       1.363  \n",
       "..        ...  \n",
       "252    81.905  \n",
       "253    82.292  \n",
       "254    82.606  \n",
       "255    82.926  \n",
       "256    83.243  \n",
       "\n",
       "[257 rows x 6 columns]"
      ]
     },
     "execution_count": 23,
     "metadata": {},
     "output_type": "execute_result"
    }
   ],
   "source": [
    "df_popc_recov"
   ]
  },
  {
   "cell_type": "code",
   "execution_count": 59,
   "id": "2ca81e1d",
   "metadata": {},
   "outputs": [
    {
     "data": {
      "image/png": "[encoded data removed]",
      "text/plain": [
       "<Figure size 432x288 with 1 Axes>"
      ]
     },
     "metadata": {
      "needs_background": "light"
     },
     "output_type": "display_data"
    }
   ],
   "source": [
    "recovery_list = [df_popc_recov['Intensity at Re=sd'],df_ni_recov['Intensity at Re=sd'],df_snap3_recov['Intensity at Re=sd'],df_snap4_recov['Intensity at Re=sd']]\n",
    "time_list = [df_popc_recov['Time (s)'],df_ni_recov['Time (s)'],df_snap3_recov['Time (s)'],df_snap4_recov['Time (s)']]\n",
    "colour_list = ['red','green','blue','purple']\n",
    "name_list = ['POPC','Ni-NTA (2%)','SNAP (2%)','SNAP (10%)']\n",
    "\n",
    "fig,ax = plt.subplots()\n",
    "\n",
    "for i in range (len(recovery_list)):\n",
    "    ax.plot(time_list[i], recovery_list[i], color = colour_list[i],alpha=0.5,label = name_list[i])\n",
    "    ax.legend()\n",
    "ax.set_xlabel('Time (s)')\n",
    "ax.set_ylabel('Intensity')\n",
    "os.chdir(r'C:\\Users\\tselb\\OneDrive - University of Cambridge\\Documents\\Mini 2\\FRAP')\n",
    "\n",
    "plt.savefig('revovery.png', dpi=600)"
   ]
  },
  {
   "cell_type": "markdown",
   "id": "4cef2242",
   "metadata": {},
   "source": [
    "# Import all the recovery data and make an averaged plot"
   ]
  },
  {
   "cell_type": "markdown",
   "id": "ed4ebbe5",
   "metadata": {},
   "source": [
    "Plot everything on one graph"
   ]
  },
  {
   "cell_type": "code",
   "execution_count": 2,
   "id": "09be05ed",
   "metadata": {},
   "outputs": [
    {
     "name": "stdout",
     "output_type": "stream",
     "text": [
      "well1_slide1_561nm_OD1p6_POPC(1)-TMR_0p5mgmL_Epi_1 255    88.189\n",
      "Name: Time (s), dtype: float64\n",
      "well1_slide2_561nm_OD1p6_POPC(1)-TMR_0p5mgmL_Epi_1 253    85.136\n",
      "Name: Time (s), dtype: float64\n",
      "well1_slide2_561nm_OD1p6_POPC(1)-TMR_0p5mgmL_Epi_2 254    84.914\n",
      "Name: Time (s), dtype: float64\n",
      "well1_slide2_561nm_OD1p6_POPC(1)-TMR_0p5mgmL_Epi_3 253    84.432\n",
      "Name: Time (s), dtype: float64\n",
      "well1_slide3_561nm_OD1p6_POPC(1)-TMR_0p5mgmL_Epi_1 252    81.94\n",
      "Name: Time (s), dtype: float64\n",
      "well1_slide3_561nm_OD1p6_POPC(1)-TMR_0p5mgmL_Epi_2 256    83.243\n",
      "Name: Time (s), dtype: float64\n",
      "well1_slide3_561nm_OD1p6_POPC(1)-TMR_0p5mgmL_Epi_3 255    83.373\n",
      "Name: Time (s), dtype: float64\n"
     ]
    },
    {
     "data": {
      "image/png": "[encoded data removed]",
      "text/plain": [
       "<Figure size 432x288 with 1 Axes>"
      ]
     },
     "metadata": {
      "needs_background": "light"
     },
     "output_type": "display_data"
    }
   ],
   "source": [
    "#Import POPC(1)\n",
    "slide = [1,2,3]\n",
    "repeat = [1,2,3]\n",
    "fig,ax = plt.subplots()\n",
    "\n",
    "experiment = 'POPC(1)'\n",
    "for i in range(len(slide)):\n",
    "    for j in range(len(repeat)):\n",
    "        \n",
    "        \n",
    "        \n",
    "        filename = 'well'+experiment[-2]+'_slide' + str(slide[i]) + '_561nm_OD1p6_'+experiment+'-TMR_0p5mgmL_Epi_' + str(repeat[j]) # set up so that goes through each directory (filename)\n",
    "        \n",
    "        if filename == 'well1_slide1_561nm_OD1p6_POPC(1)-TMR_0p5mgmL_Epi_2':\n",
    "            break\n",
    "        else:\n",
    "        \n",
    "        \n",
    "            os.chdir(r'C:\\Users\\tselb\\OneDrive - University of Cambridge\\Documents\\Mini 2\\FRAP\\Data\\2022_03_17\\2022_03_17_SLB_TR\\plottable\\1/'+filename)\n",
    "            df_popc_recov = pd.read_csv(filename+'2D gaussian.csv')\n",
    "            df_popc_recov = df_popc_recov.drop('Unnamed: 0',axis=1)\n",
    "            recovery = df_popc_recov['Intensity at Re=sd']\n",
    "            time = df_popc_recov['Time (s)']\n",
    "            ax.plot(time,recovery)\n",
    "            print(filename,time[-1:])\n",
    "ax.set_ylim((0.85,1.2))\n",
    "plt.show()\n"
   ]
  },
  {
   "cell_type": "markdown",
   "id": "37f0a0ba",
   "metadata": {},
   "source": [
    "As time is different in each case we will have to interpolate each function to get standard time values"
   ]
  },
  {
   "cell_type": "code",
   "execution_count": 22,
   "id": "ec90f945",
   "metadata": {},
   "outputs": [
    {
     "data": {
      "image/png": "[encoded data removed]",
      "text/plain": [
       "<Figure size 432x288 with 1 Axes>"
      ]
     },
     "metadata": {
      "needs_background": "light"
     },
     "output_type": "display_data"
    }
   ],
   "source": [
    "#Import POPC(1)\n",
    "slide = [1,2,3]\n",
    "repeat = [1,2,3]\n",
    "fig,ax = plt.subplots()\n",
    "df = pd.DataFrame(columns=['Time (s)'])\n",
    "interp_time = [i for i in range(81)]\n",
    "df['Time (s)'] = interp_time\n",
    "experiment = 'POPC(1)'\n",
    "for i in range(len(slide)):\n",
    "    for j in range(len(repeat)):\n",
    "        filename = 'well'+experiment[-2]+'_slide' + str(slide[i]) + '_561nm_OD1p6_'+experiment+'-TMR_0p5mgmL_Epi_' + str(repeat[j]) # set up so that goes through each directory (filename)\n",
    "        \n",
    "        if filename == 'well1_slide1_561nm_OD1p6_POPC(1)-TMR_0p5mgmL_Epi_2':\n",
    "            break\n",
    "        else:\n",
    "            os.chdir(r'C:\\Users\\tselb\\OneDrive - University of Cambridge\\Documents\\Mini 2\\FRAP\\Data\\2022_03_17\\2022_03_17_SLB_TR\\plottable\\1/'+filename)\n",
    "            df_popc_recov = pd.read_csv(filename+'2D gaussian.csv')\n",
    "            df_popc_recov = df_popc_recov.drop('Unnamed: 0',axis=1)\n",
    "            recovery = df_popc_recov['Intensity at Re=sd']\n",
    "            time = df_popc_recov['Time (s)']\n",
    "\n",
    "\n",
    "\n",
    "\n",
    "\n",
    "            \n",
    "            interp_func = interp.interp1d(time,recovery)\n",
    "\n",
    "            df.insert(1,filename, interp_func(interp_time))\n",
    "\n",
    "df=df.set_index('Time (s)')      "
   ]
  },
  {
   "cell_type": "code",
   "execution_count": 23,
   "id": "e7de2768",
   "metadata": {},
   "outputs": [
    {
     "data": {
      "text/html": [
       "<div>\n",
       "<style scoped>\n",
       "    .dataframe tbody tr th:only-of-type {\n",
       "        vertical-align: middle;\n",
       "    }\n",
       "\n",
       "    .dataframe tbody tr th {\n",
       "        vertical-align: top;\n",
       "    }\n",
       "\n",
       "    .dataframe thead th {\n",
       "        text-align: right;\n",
       "    }\n",
       "</style>\n",
       "<table border=\"1\" class=\"dataframe\">\n",
       "  <thead>\n",
       "    <tr style=\"text-align: right;\">\n",
       "      <th></th>\n",
       "      <th>well1_slide3_561nm_OD1p6_POPC(1)-TMR_0p5mgmL_Epi_3</th>\n",
       "      <th>well1_slide3_561nm_OD1p6_POPC(1)-TMR_0p5mgmL_Epi_2</th>\n",
       "      <th>well1_slide3_561nm_OD1p6_POPC(1)-TMR_0p5mgmL_Epi_1</th>\n",
       "      <th>well1_slide2_561nm_OD1p6_POPC(1)-TMR_0p5mgmL_Epi_3</th>\n",
       "      <th>well1_slide2_561nm_OD1p6_POPC(1)-TMR_0p5mgmL_Epi_2</th>\n",
       "      <th>well1_slide2_561nm_OD1p6_POPC(1)-TMR_0p5mgmL_Epi_1</th>\n",
       "      <th>well1_slide1_561nm_OD1p6_POPC(1)-TMR_0p5mgmL_Epi_1</th>\n",
       "    </tr>\n",
       "    <tr>\n",
       "      <th>Time (s)</th>\n",
       "      <th></th>\n",
       "      <th></th>\n",
       "      <th></th>\n",
       "      <th></th>\n",
       "      <th></th>\n",
       "      <th></th>\n",
       "      <th></th>\n",
       "    </tr>\n",
       "  </thead>\n",
       "  <tbody>\n",
       "    <tr>\n",
       "      <th>0</th>\n",
       "      <td>0.885914</td>\n",
       "      <td>0.876470</td>\n",
       "      <td>0.879119</td>\n",
       "      <td>0.895467</td>\n",
       "      <td>0.892592</td>\n",
       "      <td>0.871628</td>\n",
       "      <td>0.873801</td>\n",
       "    </tr>\n",
       "    <tr>\n",
       "      <th>1</th>\n",
       "      <td>0.888435</td>\n",
       "      <td>0.896336</td>\n",
       "      <td>0.893656</td>\n",
       "      <td>0.912208</td>\n",
       "      <td>0.908991</td>\n",
       "      <td>0.896335</td>\n",
       "      <td>0.891474</td>\n",
       "    </tr>\n",
       "    <tr>\n",
       "      <th>2</th>\n",
       "      <td>0.905087</td>\n",
       "      <td>0.912695</td>\n",
       "      <td>0.909899</td>\n",
       "      <td>0.926307</td>\n",
       "      <td>0.922128</td>\n",
       "      <td>0.911555</td>\n",
       "      <td>0.907135</td>\n",
       "    </tr>\n",
       "    <tr>\n",
       "      <th>3</th>\n",
       "      <td>0.918640</td>\n",
       "      <td>0.924861</td>\n",
       "      <td>0.923049</td>\n",
       "      <td>0.934288</td>\n",
       "      <td>0.934288</td>\n",
       "      <td>0.921971</td>\n",
       "      <td>0.919951</td>\n",
       "    </tr>\n",
       "    <tr>\n",
       "      <th>4</th>\n",
       "      <td>0.928467</td>\n",
       "      <td>0.936086</td>\n",
       "      <td>0.931215</td>\n",
       "      <td>0.944794</td>\n",
       "      <td>0.942464</td>\n",
       "      <td>0.932653</td>\n",
       "      <td>0.929134</td>\n",
       "    </tr>\n",
       "    <tr>\n",
       "      <th>...</th>\n",
       "      <td>...</td>\n",
       "      <td>...</td>\n",
       "      <td>...</td>\n",
       "      <td>...</td>\n",
       "      <td>...</td>\n",
       "      <td>...</td>\n",
       "      <td>...</td>\n",
       "    </tr>\n",
       "    <tr>\n",
       "      <th>76</th>\n",
       "      <td>0.977338</td>\n",
       "      <td>0.990761</td>\n",
       "      <td>6.943280</td>\n",
       "      <td>0.991597</td>\n",
       "      <td>0.985588</td>\n",
       "      <td>0.985858</td>\n",
       "      <td>0.978431</td>\n",
       "    </tr>\n",
       "    <tr>\n",
       "      <th>77</th>\n",
       "      <td>0.982409</td>\n",
       "      <td>0.990343</td>\n",
       "      <td>1.137168</td>\n",
       "      <td>1.002521</td>\n",
       "      <td>0.986824</td>\n",
       "      <td>0.986262</td>\n",
       "      <td>0.977988</td>\n",
       "    </tr>\n",
       "    <tr>\n",
       "      <th>78</th>\n",
       "      <td>0.983758</td>\n",
       "      <td>0.990339</td>\n",
       "      <td>0.985938</td>\n",
       "      <td>0.991614</td>\n",
       "      <td>0.986574</td>\n",
       "      <td>0.986162</td>\n",
       "      <td>0.978796</td>\n",
       "    </tr>\n",
       "    <tr>\n",
       "      <th>79</th>\n",
       "      <td>1.002722</td>\n",
       "      <td>0.990812</td>\n",
       "      <td>0.988348</td>\n",
       "      <td>0.991561</td>\n",
       "      <td>0.981029</td>\n",
       "      <td>0.985864</td>\n",
       "      <td>0.978876</td>\n",
       "    </tr>\n",
       "    <tr>\n",
       "      <th>80</th>\n",
       "      <td>0.981502</td>\n",
       "      <td>0.991190</td>\n",
       "      <td>1.012588</td>\n",
       "      <td>0.979653</td>\n",
       "      <td>0.986324</td>\n",
       "      <td>0.987350</td>\n",
       "      <td>0.977765</td>\n",
       "    </tr>\n",
       "  </tbody>\n",
       "</table>\n",
       "<p>81 rows × 7 columns</p>\n",
       "</div>"
      ],
      "text/plain": [
       "          well1_slide3_561nm_OD1p6_POPC(1)-TMR_0p5mgmL_Epi_3  \\\n",
       "Time (s)                                                       \n",
       "0                                                  0.885914    \n",
       "1                                                  0.888435    \n",
       "2                                                  0.905087    \n",
       "3                                                  0.918640    \n",
       "4                                                  0.928467    \n",
       "...                                                     ...    \n",
       "76                                                 0.977338    \n",
       "77                                                 0.982409    \n",
       "78                                                 0.983758    \n",
       "79                                                 1.002722    \n",
       "80                                                 0.981502    \n",
       "\n",
       "          well1_slide3_561nm_OD1p6_POPC(1)-TMR_0p5mgmL_Epi_2  \\\n",
       "Time (s)                                                       \n",
       "0                                                  0.876470    \n",
       "1                                                  0.896336    \n",
       "2                                                  0.912695    \n",
       "3                                                  0.924861    \n",
       "4                                                  0.936086    \n",
       "...                                                     ...    \n",
       "76                                                 0.990761    \n",
       "77                                                 0.990343    \n",
       "78                                                 0.990339    \n",
       "79                                                 0.990812    \n",
       "80                                                 0.991190    \n",
       "\n",
       "          well1_slide3_561nm_OD1p6_POPC(1)-TMR_0p5mgmL_Epi_1  \\\n",
       "Time (s)                                                       \n",
       "0                                                  0.879119    \n",
       "1                                                  0.893656    \n",
       "2                                                  0.909899    \n",
       "3                                                  0.923049    \n",
       "4                                                  0.931215    \n",
       "...                                                     ...    \n",
       "76                                                 6.943280    \n",
       "77                                                 1.137168    \n",
       "78                                                 0.985938    \n",
       "79                                                 0.988348    \n",
       "80                                                 1.012588    \n",
       "\n",
       "          well1_slide2_561nm_OD1p6_POPC(1)-TMR_0p5mgmL_Epi_3  \\\n",
       "Time (s)                                                       \n",
       "0                                                  0.895467    \n",
       "1                                                  0.912208    \n",
       "2                                                  0.926307    \n",
       "3                                                  0.934288    \n",
       "4                                                  0.944794    \n",
       "...                                                     ...    \n",
       "76                                                 0.991597    \n",
       "77                                                 1.002521    \n",
       "78                                                 0.991614    \n",
       "79                                                 0.991561    \n",
       "80                                                 0.979653    \n",
       "\n",
       "          well1_slide2_561nm_OD1p6_POPC(1)-TMR_0p5mgmL_Epi_2  \\\n",
       "Time (s)                                                       \n",
       "0                                                  0.892592    \n",
       "1                                                  0.908991    \n",
       "2                                                  0.922128    \n",
       "3                                                  0.934288    \n",
       "4                                                  0.942464    \n",
       "...                                                     ...    \n",
       "76                                                 0.985588    \n",
       "77                                                 0.986824    \n",
       "78                                                 0.986574    \n",
       "79                                                 0.981029    \n",
       "80                                                 0.986324    \n",
       "\n",
       "          well1_slide2_561nm_OD1p6_POPC(1)-TMR_0p5mgmL_Epi_1  \\\n",
       "Time (s)                                                       \n",
       "0                                                  0.871628    \n",
       "1                                                  0.896335    \n",
       "2                                                  0.911555    \n",
       "3                                                  0.921971    \n",
       "4                                                  0.932653    \n",
       "...                                                     ...    \n",
       "76                                                 0.985858    \n",
       "77                                                 0.986262    \n",
       "78                                                 0.986162    \n",
       "79                                                 0.985864    \n",
       "80                                                 0.987350    \n",
       "\n",
       "          well1_slide1_561nm_OD1p6_POPC(1)-TMR_0p5mgmL_Epi_1  \n",
       "Time (s)                                                      \n",
       "0                                                  0.873801   \n",
       "1                                                  0.891474   \n",
       "2                                                  0.907135   \n",
       "3                                                  0.919951   \n",
       "4                                                  0.929134   \n",
       "...                                                     ...   \n",
       "76                                                 0.978431   \n",
       "77                                                 0.977988   \n",
       "78                                                 0.978796   \n",
       "79                                                 0.978876   \n",
       "80                                                 0.977765   \n",
       "\n",
       "[81 rows x 7 columns]"
      ]
     },
     "execution_count": 23,
     "metadata": {},
     "output_type": "execute_result"
    }
   ],
   "source": [
    "df"
   ]
  },
  {
   "cell_type": "code",
   "execution_count": 24,
   "id": "21e26964",
   "metadata": {},
   "outputs": [
    {
     "data": {
      "text/plain": [
       "Time (s)\n",
       "0     0.009331\n",
       "1     0.008952\n",
       "2     0.007822\n",
       "3     0.006466\n",
       "4     0.006452\n",
       "        ...   \n",
       "76    2.252052\n",
       "77    0.057001\n",
       "78    0.004231\n",
       "79    0.007878\n",
       "80    0.011794\n",
       "Length: 81, dtype: float64"
      ]
     },
     "execution_count": 24,
     "metadata": {},
     "output_type": "execute_result"
    }
   ],
   "source": [
    "df.std(axis=1)"
   ]
  },
  {
   "cell_type": "code",
   "execution_count": 27,
   "id": "47c12f73",
   "metadata": {},
   "outputs": [
    {
     "data": {
      "text/plain": [
       "(0.85, 2.0)"
      ]
     },
     "execution_count": 27,
     "metadata": {},
     "output_type": "execute_result"
    },
    {
     "data": {
      "image/png": "[encoded data removed]",
      "text/plain": [
       "<Figure size 432x288 with 1 Axes>"
      ]
     },
     "metadata": {
      "needs_background": "light"
     },
     "output_type": "display_data"
    }
   ],
   "source": [
    "fig,ax= plt.subplots()\n",
    "ax.plot(list(df.index.values),df.mean(axis=1))\n",
    "\n",
    "ax.set_ylim(0.85,2)"
   ]
  },
  {
   "cell_type": "code",
   "execution_count": null,
   "id": "45f1b89b",
   "metadata": {},
   "outputs": [],
   "source": []
  }
 ],
 "metadata": {
  "kernelspec": {
   "display_name": "Python 3 (ipykernel)",
   "language": "python",
   "name": "python3"
  },
  "language_info": {
   "codemirror_mode": {
    "name": "ipython",
    "version": 3
   },
   "file_extension": ".py",
   "mimetype": "text/x-python",
   "name": "python",
   "nbconvert_exporter": "python",
   "pygments_lexer": "ipython3",
   "version": "3.9.7"
  }
 },
 "nbformat": 4,
 "nbformat_minor": 5
}
